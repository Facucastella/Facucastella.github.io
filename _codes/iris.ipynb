{
 "cells": [
  {
   "cell_type": "code",
   "execution_count": null,
   "metadata": {},
   "outputs": [],
   "source": [
    "import pandas as pd\n",
    "from bokeh.sampledata.iris import flowers\n",
    "\n",
    "from bokeh.plotting import figure, show, output_file\n",
    "from bokeh.models import ColumnDataSource, HoverTool\n"
   ]
  },
  {
   "cell_type": "code",
   "execution_count": null,
   "metadata": {},
   "outputs": [],
   "source": [
    "colormap = {'setosa': 'red', 'versicolor': 'green', 'virginica': 'blue'}\n",
    "flowers['colors'] = [colormap[x] for x in flowers['species']]\n",
    "\n",
    "hover = HoverTool(tooltips=[\n",
    "    (\"Sepal length\", \"@sepal_length\"),\n",
    "    (\"Sepal width\", \"@sepal_width\"),\n",
    "    (\"Petal length\", \"@petal_length\"),\n",
    "    (\"Species\", \"@species\")\n",
    "    ])\n",
    "\n",
    "p = figure(title = \"Iris Morphology\", height=500, width=500, tools=[hover, \"pan,reset,wheel_zoom\"])\n",
    "\n",
    "p.xaxis.axis_label = 'Petal Length'\n",
    "p.yaxis.axis_label = 'Petal Width'\n",
    "\n",
    "p.circle('petal_length', 'petal_width', color='colors', \n",
    "         fill_alpha=0.2, size=10, source=ColumnDataSource(flowers))\n",
    "\n",
    "output_file('flowers.html')\n",
    "\n",
    "show(p)"
   ]
  }
 ],
 "metadata": {
  "language_info": {
   "name": "python"
  },
  "orig_nbformat": 4
 },
 "nbformat": 4,
 "nbformat_minor": 2
}
